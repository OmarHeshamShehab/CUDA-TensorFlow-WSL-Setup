{
 "cells": [
  {
   "cell_type": "code",
   "execution_count": 5,
   "metadata": {},
   "outputs": [
    {
     "name": "stdout",
     "output_type": "stream",
     "text": [
      "Python version: 3.11.9 (main, Apr 19 2024, 16:48:06) [GCC 11.2.0]\n",
      "TensorFlow version: 2.16.1\n",
      "GPU available: True\n",
      "GPU devices: [PhysicalDevice(name='/physical_device:GPU:0', device_type='GPU')]\n",
      "Built with CUDA: True\n",
      "\n",
      "TensorFlow build information:\n",
      "OrderedDict([('cpu_compiler', '/usr/lib/llvm-17/bin/clang'), ('cuda_compute_capabilities', ['sm_50', 'sm_60', 'sm_70', 'sm_80', 'compute_90']), ('cuda_version', '12.3'), ('cudnn_version', '8'), ('is_cuda_build', True), ('is_rocm_build', False), ('is_tensorrt_build', True)])\n"
     ]
    }
   ],
   "source": [
    "import tensorflow as tf\n",
    "import sys\n",
    "\n",
    "\n",
    "def check_tensorflow_config():\n",
    "    print(f\"Python version: {sys.version}\")\n",
    "    print(f\"TensorFlow version: {tf.__version__}\")\n",
    "\n",
    "    # Check for GPU availability\n",
    "    print(f\"GPU available: {tf.test.is_built_with_cuda()}\")\n",
    "    print(f\"GPU devices: {tf.config.list_physical_devices('GPU')}\")\n",
    "\n",
    "    # Check CUDA configuration\n",
    "    print(f\"Built with CUDA: {tf.test.is_built_with_cuda()}\")\n",
    "\n",
    "    # Additional TensorFlow build information\n",
    "    print(\"\\nTensorFlow build information:\")\n",
    "    print(tf.sysconfig.get_build_info())\n",
    "\n",
    "\n",
    "if __name__ == \"__main__\":\n",
    "    check_tensorflow_config()"
   ]
  }
 ],
 "metadata": {
  "kernelspec": {
   "display_name": ".tf216",
   "language": "python",
   "name": "python3"
  },
  "language_info": {
   "codemirror_mode": {
    "name": "ipython",
    "version": 3
   },
   "file_extension": ".py",
   "mimetype": "text/x-python",
   "name": "python",
   "nbconvert_exporter": "python",
   "pygments_lexer": "ipython3",
   "version": "3.11.9"
  }
 },
 "nbformat": 4,
 "nbformat_minor": 2
}
