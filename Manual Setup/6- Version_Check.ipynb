{
 "cells": [
  {
   "cell_type": "code",
   "execution_count": null,
   "metadata": {},
   "outputs": [],
   "source": [
    "import tensorflow as tf\n",
    "import pycuda.driver as cuda\n",
    "import tensorrt as trt\n",
    "import os\n",
    "\n",
    "def check_tensorflow_gpu():\n",
    "    print(\"TensorFlow Version:\", tf.__version__)\n",
    "    if tf.test.gpu_device_name():\n",
    "        print(\"GPU is available in TensorFlow:\", tf.test.gpu_device_name())\n",
    "    else:\n",
    "        print(\"No GPU found in TensorFlow.\")\n",
    "\n",
    "def check_cuda():\n",
    "    try:\n",
    "        cuda.init()\n",
    "        print(f\"Found {cuda.Device.count()} CUDA device(s).\")\n",
    "        for i in range(cuda.Device.count()):\n",
    "            device = cuda.Device(i)\n",
    "            print(f\"Device {i}: {device.name()} (Compute Capability: {device.compute_capability()})\")\n",
    "    except Exception as e:\n",
    "        print(\"CUDA not found or failed to initialize:\", str(e))\n",
    "\n",
    "def check_tensorrt():\n",
    "    try:\n",
    "        print(\"TensorRT version:\", trt.__version__)\n",
    "    except Exception as e:\n",
    "        print(\"TensorRT not found:\", str(e))\n",
    "\n",
    "def check_cudnn():\n",
    "    try:\n",
    "        cudnn_version = os.popen(\"cat /usr/local/cuda/include/cudnn_version.h | grep CUDNN_MAJOR -A 2\").read()\n",
    "        print(\"cuDNN version information:\\n\", cudnn_version)\n",
    "    except Exception as e:\n",
    "        print(\"cuDNN not found:\", str(e))\n",
    "\n",
    "if __name__ == \"__main__\":\n",
    "    print(\"Checking TensorFlow GPU availability...\")\n",
    "    check_tensorflow_gpu()\n",
    "\n",
    "    print(\"\\nChecking CUDA installation...\")\n",
    "    check_cuda()\n",
    "\n",
    "    print(\"\\nChecking TensorRT installation...\")\n",
    "    check_tensorrt()\n",
    "\n",
    "    print(\"\\nChecking cuDNN installation...\")\n",
    "    check_cudnn()\n"
   ]
  }
 ],
 "metadata": {
  "language_info": {
   "name": "python"
  }
 },
 "nbformat": 4,
 "nbformat_minor": 2
}
