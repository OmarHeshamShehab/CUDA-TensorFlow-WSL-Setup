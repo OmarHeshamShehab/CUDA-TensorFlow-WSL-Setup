{
 "cells": [
  {
   "cell_type": "code",
   "execution_count": 1,
   "metadata": {},
   "outputs": [
    {
     "name": "stderr",
     "output_type": "stream",
     "text": [
      "2025-04-18 17:51:00.891061: E external/local_xla/xla/stream_executor/cuda/cuda_fft.cc:467] Unable to register cuFFT factory: Attempting to register factory for plugin cuFFT when one has already been registered\n",
      "WARNING: All log messages before absl::InitializeLog() is called are written to STDERR\n",
      "E0000 00:00:1744991460.998453    1128 cuda_dnn.cc:8579] Unable to register cuDNN factory: Attempting to register factory for plugin cuDNN when one has already been registered\n",
      "E0000 00:00:1744991461.028109    1128 cuda_blas.cc:1407] Unable to register cuBLAS factory: Attempting to register factory for plugin cuBLAS when one has already been registered\n",
      "W0000 00:00:1744991461.253363    1128 computation_placer.cc:177] computation placer already registered. Please check linkage and avoid linking the same target more than once.\n",
      "W0000 00:00:1744991461.253415    1128 computation_placer.cc:177] computation placer already registered. Please check linkage and avoid linking the same target more than once.\n",
      "W0000 00:00:1744991461.253416    1128 computation_placer.cc:177] computation placer already registered. Please check linkage and avoid linking the same target more than once.\n",
      "W0000 00:00:1744991461.253417    1128 computation_placer.cc:177] computation placer already registered. Please check linkage and avoid linking the same target more than once.\n",
      "2025-04-18 17:51:01.282753: I tensorflow/core/platform/cpu_feature_guard.cc:210] This TensorFlow binary is optimized to use available CPU instructions in performance-critical operations.\n",
      "To enable the following instructions: AVX2 FMA, in other operations, rebuild TensorFlow with the appropriate compiler flags.\n"
     ]
    },
    {
     "name": "stdout",
     "output_type": "stream",
     "text": [
      "Checking TensorFlow GPU availability...\n",
      "TensorFlow Version: 2.19.0\n",
      "GPU is available in TensorFlow: /device:GPU:0\n",
      "\n",
      "Checking CUDA installation...\n",
      "Found 1 CUDA device(s).\n",
      "Device 0: Quadro RTX 5000 with Max-Q Design (Compute Capability: (7, 5))\n",
      "\n",
      "Checking TensorRT installation...\n",
      "TensorRT version: 10.9.0.34\n",
      "\n",
      "Checking cuDNN installation...\n",
      "cuDNN version information:\n",
      " #define CUDNN_MAJOR 9\n",
      "#define CUDNN_MINOR 3\n",
      "#define CUDNN_PATCHLEVEL 0\n",
      "--\n",
      "#define CUDNN_VERSION (CUDNN_MAJOR * 10000 + CUDNN_MINOR * 100 + CUDNN_PATCHLEVEL)\n",
      "\n",
      "/* cannot use constexpr here since this is a C-only file */\n",
      "\n"
     ]
    },
    {
     "name": "stderr",
     "output_type": "stream",
     "text": [
      "I0000 00:00:1744991465.699858    1128 gpu_device.cc:2019] Created device /device:GPU:0 with 14215 MB memory:  -> device: 0, name: Quadro RTX 5000 with Max-Q Design, pci bus id: 0000:01:00.0, compute capability: 7.5\n",
      "I0000 00:00:1744991465.703815    1128 gpu_device.cc:2019] Created device /device:GPU:0 with 14215 MB memory:  -> device: 0, name: Quadro RTX 5000 with Max-Q Design, pci bus id: 0000:01:00.0, compute capability: 7.5\n"
     ]
    }
   ],
   "source": [
    "import tensorflow as tf\n",
    "import pycuda.driver as cuda\n",
    "import tensorrt as trt\n",
    "import os\n",
    "\n",
    "\n",
    "def check_tensorflow_gpu():\n",
    "    print(\"TensorFlow Version:\", tf.__version__)\n",
    "    if tf.test.gpu_device_name():\n",
    "        print(\"GPU is available in TensorFlow:\", tf.test.gpu_device_name())\n",
    "    else:\n",
    "        print(\"No GPU found in TensorFlow.\")\n",
    "\n",
    "\n",
    "def check_cuda():\n",
    "    try:\n",
    "        cuda.init()\n",
    "        print(f\"Found {cuda.Device.count()} CUDA device(s).\")\n",
    "        for i in range(cuda.Device.count()):\n",
    "            device = cuda.Device(i)\n",
    "            print(\n",
    "                f\"Device {i}: {device.name()} (Compute Capability: {device.compute_capability()})\"\n",
    "            )\n",
    "    except Exception as e:\n",
    "        print(\"CUDA not found or failed to initialize:\", str(e))\n",
    "\n",
    "\n",
    "def check_tensorrt():\n",
    "    try:\n",
    "        print(\"TensorRT version:\", trt.__version__)\n",
    "    except Exception as e:\n",
    "        print(\"TensorRT not found:\", str(e))\n",
    "\n",
    "\n",
    "def check_cudnn():\n",
    "    try:\n",
    "        # Try both common locations\n",
    "        for path in [\n",
    "            \"/usr/include/cudnn_version.h\",\n",
    "            \"/usr/local/cuda/include/cudnn_version.h\",\n",
    "        ]:\n",
    "            if os.path.exists(path):\n",
    "                version_info = os.popen(f\"grep CUDNN_MAJOR -A 2 {path}\").read()\n",
    "                print(\"cuDNN version information:\\n\", version_info)\n",
    "                return\n",
    "        print(\"cuDNN header not found.\")\n",
    "    except Exception as e:\n",
    "        print(\"cuDNN check failed:\", str(e))\n",
    "\n",
    "\n",
    "if __name__ == \"__main__\":\n",
    "    print(\"Checking TensorFlow GPU availability...\")\n",
    "    check_tensorflow_gpu()\n",
    "\n",
    "    print(\"\\nChecking CUDA installation...\")\n",
    "    check_cuda()\n",
    "\n",
    "    print(\"\\nChecking TensorRT installation...\")\n",
    "    check_tensorrt()\n",
    "\n",
    "    print(\"\\nChecking cuDNN installation...\")\n",
    "    check_cudnn()"
   ]
  }
 ],
 "metadata": {
  "kernelspec": {
   "display_name": ".tf219",
   "language": "python",
   "name": "python3"
  },
  "language_info": {
   "codemirror_mode": {
    "name": "ipython",
    "version": 3
   },
   "file_extension": ".py",
   "mimetype": "text/x-python",
   "name": "python",
   "nbconvert_exporter": "python",
   "pygments_lexer": "ipython3",
   "version": "3.11.11"
  }
 },
 "nbformat": 4,
 "nbformat_minor": 2
}
